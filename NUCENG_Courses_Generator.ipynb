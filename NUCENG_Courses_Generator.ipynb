{
 "cells": [
  {
   "cell_type": "code",
   "execution_count": 23,
   "metadata": {
    "ExecuteTime": {
     "end_time": "2020-07-02T07:46:48.837727Z",
     "start_time": "2020-07-02T07:46:48.834226Z"
    }
   },
   "outputs": [],
   "source": [
    "import csv\n",
    "import json\n",
    "import pandas as pd"
   ]
  },
  {
   "cell_type": "code",
   "execution_count": 2,
   "metadata": {
    "ExecuteTime": {
     "end_time": "2020-07-02T06:18:57.993979Z",
     "start_time": "2020-07-02T06:18:57.985977Z"
    }
   },
   "outputs": [],
   "source": [
    "data_with_columns = pd.read_csv(\"Courses - Sheet1.csv\")"
   ]
  },
  {
   "cell_type": "code",
   "execution_count": 3,
   "metadata": {
    "ExecuteTime": {
     "end_time": "2020-07-02T06:18:59.441732Z",
     "start_time": "2020-07-02T06:18:59.418729Z"
    }
   },
   "outputs": [
    {
     "data": {
      "text/plain": [
       "[{'json_name': 'nuc_eng_100',\n",
       "  'id': '100',\n",
       "  'name': 'Introduction to Nuclear Energy and Technology',\n",
       "  'instructor': 'Rachel Slaybaugh',\n",
       "  'offering days': 'tuesday, thursday',\n",
       "  'time': '9:30',\n",
       "  'duration': '1.5 hour(s)',\n",
       "  'instruction mode': 'online',\n",
       "  'class number': 28766,\n",
       "  'units': 3,\n",
       "  'term': 'fall',\n",
       "  'description': 'The class provides students with an overview of the contemporary nuclear energy technology with emphasis on nuclear fission as an energy source. Starting with the basic physics of the nuclear fission process, the class includes discussions on reactor control, thermal hydraulics, fuel production, and spent fuel management for various types of reactors in use around the world as well as analysis of safety and other nuclear-related issues. This class is intended for sophomore NE students, but is also open to transfer students and students from other majors.'},\n",
       " {'json_name': 'nuc_eng_200m',\n",
       "  'id': '200M',\n",
       "  'name': 'Introduction to Nuclear Energy and Technology',\n",
       "  'instructor': 'Rachel Slaybaugh',\n",
       "  'offering days': 'tuesday, thursday',\n",
       "  'time': '9:30',\n",
       "  'duration': '1.5 hour(s)',\n",
       "  'instruction mode': 'online',\n",
       "  'class number': 28767,\n",
       "  'units': 3,\n",
       "  'term': 'fall',\n",
       "  'description': 'The class provides students with an overview of the contemporary nuclear energy technology with emphasis on nuclear fission as an energy source. Starting with the basic physics of the nuclear fission process, the class includes discussions on reactor control, thermal hydraulics, fuel production, and spent fuel management for various types of reactors in use around the world as well as analysis of safety and other nuclear-related issues. This class is intended for sophomore NE students, but is also open to transfer students and students from other majors.'},\n",
       " {'json_name': 'nuc_eng_104',\n",
       "  'id': '104',\n",
       "  'name': 'Radiation Detection and Nuclear Instrumentation Laboratory',\n",
       "  'instructor': 'Kai Vetter',\n",
       "  'offering days': 'monday, wednesday',\n",
       "  'time': '10:00',\n",
       "  'duration': '1 hour(s)',\n",
       "  'instruction mode': 'online',\n",
       "  'class number': 32140,\n",
       "  'units': 4,\n",
       "  'term': 'fall',\n",
       "  'description': 'Basic science of radiation measurement, nuclear instrumentation, neutronics, radiation dosimetry. The lectures emphasize the principles of radiation detection. The weekly laboratory applies a variety of radiation detection systems to the practical measurements of interest for nuclear power, nuclear and non-nuclear science, and environmental applications. Students present goals and approaches of the experiements being performed.'},\n",
       " {'json_name': 'nuc_eng_107',\n",
       "  'id': '107',\n",
       "  'name': 'Introuction to Imaging',\n",
       "  'instructor': 'Kai Vetter',\n",
       "  'offering days': 'tuesday, thursday',\n",
       "  'time': '2:00',\n",
       "  'duration': '1.5 hour(s)',\n",
       "  'instruction mode': 'online',\n",
       "  'class number': 33687,\n",
       "  'units': 3,\n",
       "  'term': 'fall',\n",
       "  'description': 'Introduction to medical imaging physics and systems, including x-ray computed tomography (CT), nuclear magnetic resonance (NMR), positron emission tomography (PET), and SPECT; basic principles of tomography and an introduction to unfolding methods; resolution effects of counting statistics, inherent system resolution and human factors.'},\n",
       " {'json_name': 'nuc_eng_120',\n",
       "  'id': '120',\n",
       "  'name': 'Nuclear Materials',\n",
       "  'instructor': 'Peter Hosemann',\n",
       "  'offering days': 'monday, wednesday, friday',\n",
       "  'time': '9:00',\n",
       "  'duration': '1 hour(s)',\n",
       "  'instruction mode': 'online',\n",
       "  'class number': 27979,\n",
       "  'units': 4,\n",
       "  'term': 'fall',\n",
       "  'description': 'Effects of irradiation on the atomic and mechanical properties of materials in nuclear reactors. Fission product swelling and release; neutron damage to structural alloys; fabrication and properties of uranium dioxide fuel.'},\n",
       " {'json_name': 'nuc_eng_220m',\n",
       "  'id': '220M',\n",
       "  'name': 'Nuclear Materials',\n",
       "  'instructor': 'Peter Hosemann',\n",
       "  'offering days': 'monday, wednesday, friday',\n",
       "  'time': '9:00',\n",
       "  'duration': '1 hour(s)',\n",
       "  'instruction mode': 'online',\n",
       "  'class number': 28833,\n",
       "  'units': 4,\n",
       "  'term': 'fall',\n",
       "  'description': 'Effects of irradiation on the atomic and mechanical properties of materials in nuclear reactors. Fission product swelling and release; neutron damage to structural alloys; fabrication and properties of uranium dioxide fuel.'},\n",
       " {'json_name': 'nuc_eng_156',\n",
       "  'id': '156',\n",
       "  'name': 'Nuclear Criticality Safety',\n",
       "  'instructor': 'Massimiliano Fratoni',\n",
       "  'offering days': 'wednesday',\n",
       "  'time': '14:00',\n",
       "  'duration': '3 hour(s)',\n",
       "  'instruction mode': 'online',\n",
       "  'class number': 28609,\n",
       "  'units': 3,\n",
       "  'term': 'fall',\n",
       "  'description': 'This course provides an introduction to the field of nuclear criticality safety. Topics include: a review of basic concepts related to criticality (fission, cross sections, multiplication factor, etc.); criticality safety accidents; standards applicable to criticality safety; hand calculations and Monte Carlo methods used in criticality safety analysis; criticality safety evaluation documents.'},\n",
       " {'json_name': 'nuc_eng_256m',\n",
       "  'id': '256M',\n",
       "  'name': 'Nuclear Criticality Safety',\n",
       "  'instructor': 'Massimiliano Fratoni',\n",
       "  'offering days': 'wednesday',\n",
       "  'time': '14:00',\n",
       "  'duration': '3 hour(s)',\n",
       "  'instruction mode': 'online',\n",
       "  'class number': 28610,\n",
       "  'units': 3,\n",
       "  'term': 'fall',\n",
       "  'description': 'This course provides an introduction to the field of nuclear criticality safety. Topics include: a review of basic concepts related to criticality (fission, cross sections, multiplication factor, etc.); criticality safety accidents; standards applicable to criticality safety; hand calculations and Monte Carlo methods used in criticality safety analysis; criticality safety evaluation documents.'},\n",
       " {'json_name': 'nuc_eng_161',\n",
       "  'id': '161',\n",
       "  'name': 'Nuclear Power Engineering',\n",
       "  'instructor': 'Ralph Berger',\n",
       "  'offering days': 'tuesday, thursday',\n",
       "  'time': '9:30',\n",
       "  'duration': '1.5 hour(s)',\n",
       "  'instruction mode': 'pending',\n",
       "  'class number': 27977,\n",
       "  'units': 4,\n",
       "  'term': 'fall',\n",
       "  'description': 'Energy conversion in nuclear power systems; design of fission reactors; thermal and structural analysis of reactor core and plant components; thermal-hydraulic analysis of accidents in nuclear power plants; safety evaluation and engineered safety systems.'},\n",
       " {'json_name': 'nuc_eng_261m',\n",
       "  'id': '261M',\n",
       "  'name': 'Nuclear Power Engineering',\n",
       "  'instructor': 'Ralph Berger',\n",
       "  'offering days': 'tuesday, thursday',\n",
       "  'time': '9:30',\n",
       "  'duration': '1.5 hour(s)',\n",
       "  'instruction mode': 'pending',\n",
       "  'class number': 28835,\n",
       "  'units': 4,\n",
       "  'term': 'fall',\n",
       "  'description': 'Energy conversion in nuclear power systems; design of fission reactors; thermal and structural analysis of reactor core and plant components; thermal-hydraulic analysis of accidents in nuclear power plants; safety evaluation and engineered safety systems.'},\n",
       " {'json_name': 'nuc_eng_167',\n",
       "  'id': '167',\n",
       "  'name': 'Risk-Informed Design for Advanced Nuclear Systems',\n",
       "  'instructor': 'Per Peterson',\n",
       "  'offering days': 'tuesday, thursday',\n",
       "  'time': '8:00',\n",
       "  'duration': '1.5 hour(s)',\n",
       "  'instruction mode': 'pending',\n",
       "  'class number': 28789,\n",
       "  'units': 3,\n",
       "  'term': 'fall',\n",
       "  'description': 'Project-based class for design and licensing of nuclear facilities, including advanced reactors. Elements of a project proposal. Regulatory framework and use of deterministic and probabilistic licensing criteria. Siting criteria. External and internal events. Identification and analysis of design basis and beyond design basis events. Communication with regulators and stakeholders. Ability to work in and contribute to a design team.'},\n",
       " {'json_name': 'nuc_eng_267',\n",
       "  'id': '267',\n",
       "  'name': 'Risk-Informed Design for Advanced Nuclear Systems',\n",
       "  'instructor': 'Per Peterson',\n",
       "  'offering days': 'tuesday, thursday',\n",
       "  'time': '8:00',\n",
       "  'duration': '1.5 hour(s)',\n",
       "  'instruction mode': 'pending',\n",
       "  'class number': 28790,\n",
       "  'units': 3,\n",
       "  'term': 'fall',\n",
       "  'description': 'Project-based class for design and licensing of nuclear facilities, including advanced reactors. Elements of a project proposal. Regulatory framework and use of deterministic and probabilistic licensing criteria. Siting criteria. External and internal events. Identification and analysis of design basis and beyond design basis events. Communication with regulators and stakeholders. Ability to work in and contribute to a design team.'},\n",
       " {'json_name': 'nuc_eng_175',\n",
       "  'id': '175',\n",
       "  'name': 'Methods of Risk Analysis',\n",
       "  'instructor': 'Per Peterson',\n",
       "  'offering days': 'tuesday, thursday',\n",
       "  'time': '8:00',\n",
       "  'duration': '1.5 hour(s)',\n",
       "  'instruction mode': 'pending',\n",
       "  'class number': 34174,\n",
       "  'units': 3,\n",
       "  'term': 'fall',\n",
       "  'description': 'Methodological approaches for the quantification of technological risk and risk based decision making. Probabilistic safety assessment, human health risks, environmental and ecological risk analysis.'},\n",
       " {'json_name': 'nuc_eng_275',\n",
       "  'id': '275',\n",
       "  'name': 'Principles and Methods of Risk Analysis',\n",
       "  'instructor': 'Per Peterson',\n",
       "  'offering days': 'tuesday, thursday',\n",
       "  'time': '8:00',\n",
       "  'duration': '1.5 hour(s)',\n",
       "  'instruction mode': 'pending',\n",
       "  'class number': 34177,\n",
       "  'units': 4,\n",
       "  'term': 'fall',\n",
       "  'description': 'Principles and methodological approaches for the quantification of technological risk and risk-based decision making.'},\n",
       " {'json_name': 'nuc_eng_180',\n",
       "  'id': '180',\n",
       "  'name': 'Introduction to Controlled Fusion',\n",
       "  'instructor': 'Edward Morse',\n",
       "  'offering days': 'tuesday, thursday',\n",
       "  'time': '15:30',\n",
       "  'duration': '1.5 hour(s)',\n",
       "  'instruction mode': 'pending',\n",
       "  'class number': 27997,\n",
       "  'units': 3,\n",
       "  'term': 'fall',\n",
       "  'description': 'Introduction to energy production by controlled thermonuclear reactions. Nuclear fusion reactions, energy balances for fusion systems, survey of plasma physics; neutral beam injection; RF heating methods; vacuum systems; tritium handling.'},\n",
       " {'json_name': 'nuc_eng_250',\n",
       "  'id': '260',\n",
       "  'name': 'Nuclear Reactor Theory',\n",
       "  'instructor': 'Jasmina Vujic',\n",
       "  'offering days': 'monday, wednesday',\n",
       "  'time': '12:00',\n",
       "  'duration': '2 hour(s)',\n",
       "  'instruction mode': 'pending',\n",
       "  'class number': 28768,\n",
       "  'units': 4,\n",
       "  'term': 'fall',\n",
       "  'description': 'Fission characteristics; neutron chain reactions, neutron transport and diffusion theory; reactor kinetics; multigroup methods, fast and thermal spectrum calculations, inhomogeneous reactor design, effects of poisons and fuel depletion.'},\n",
       " {'json_name': 'nuc_eng_290b',\n",
       "  'id': '290b',\n",
       "  'name': 'Special Topics in Nuclear Materials and Chemistry',\n",
       "  'instructor': 'Raluca Olga Scarlat',\n",
       "  'offering days': 'monday, wednesday, friday',\n",
       "  'time': '11:00',\n",
       "  'duration': '1 hour(s)',\n",
       "  'instruction mode': 'pending',\n",
       "  'class number': 32166,\n",
       "  'units': 3,\n",
       "  'term': 'fall',\n",
       "  'description': 'Special topics in nuclear materials and chemistry. Topics may include advanced nuclear materials and corrosion. Course content may vary from semester to semester depending upon the instructor.'},\n",
       " {'json_name': 'nuc_eng_295f',\n",
       "  'id': '295',\n",
       "  'name': 'Nuclear Engineering Colloquium',\n",
       "  'instructor': 'Peter Hosemann',\n",
       "  'offering days': 'monday',\n",
       "  'time': '16:00',\n",
       "  'duration': '1 hour(s)',\n",
       "  'instruction mode': 'online',\n",
       "  'class number': 19606,\n",
       "  'units': 0,\n",
       "  'term': 'fall',\n",
       "  'description': 'Presentations on current topics of interest in nuclear technology by experts from government, industry and universities. Open to the campus community.'},\n",
       " {'json_name': 'nuc_eng_101',\n",
       "  'id': '101',\n",
       "  'name': 'Nuclear Reactions and Radiation',\n",
       "  'instructor': 'Lee A. Bernstein',\n",
       "  'offering days': 'monday, wednesday, friday',\n",
       "  'time': '13:00',\n",
       "  'duration': '1 hour(s)',\n",
       "  'instruction mode': 'in-person',\n",
       "  'class number': 31434,\n",
       "  'units': 4,\n",
       "  'term': 'spring',\n",
       "  'description': 'Energetics and kinetics of nuclear reactions and radioactive decay, fission, fusion, and reactions of low-energy neutrons; properties of the fission products and the actinides; nuclear models and transition probabilities; interaction of radiation with matter.'},\n",
       " {'json_name': 'nuc_eng_210m',\n",
       "  'id': '210M',\n",
       "  'name': 'Nuclear Reactions and Radiation',\n",
       "  'instructor': 'Lee A. Bernstein',\n",
       "  'offering days': 'monday, wednesday, friday',\n",
       "  'time': '13:00',\n",
       "  'duration': '1 hour(s)',\n",
       "  'instruction mode': 'in-person',\n",
       "  'class number': 33094,\n",
       "  'units': 4,\n",
       "  'term': 'spring',\n",
       "  'description': 'Energetics and kinetics of nuclear reactions and radioactive decay, fission, fusion, and reactions of low-energy neutrons; properties of the fission products and the actinides; nuclear models and transition probabilities; interaction of radiation with matter.'},\n",
       " {'json_name': 'nuc_eng_124',\n",
       "  'id': '124',\n",
       "  'name': 'Radioactive Waste Management',\n",
       "  'instructor': 'Rebecca J. Abergel',\n",
       "  'offering days': 'tuesday, thursday',\n",
       "  'time': '9:30',\n",
       "  'duration': '1.5 hour(s)',\n",
       "  'instruction mode': 'in-person',\n",
       "  'class number': 29133,\n",
       "  'units': 3,\n",
       "  'term': 'spring',\n",
       "  'description': 'Components and material flowsheets for nuclear fuel cycle, waste characteristics, sources of radioactive wastes, compositions, radioactivity and heat generation; waste treatment technologies; waste disposal technologies; safety assessment of waste disposal.'},\n",
       " {'json_name': 'nuc_eng_130',\n",
       "  'id': '130',\n",
       "  'name': 'Analytical Methods for Non-proliferation',\n",
       "  'instructor': 'Edward Morse',\n",
       "  'offering days': 'tuesday, thursday',\n",
       "  'time': '5:00',\n",
       "  'duration': '1.5 hour(s)',\n",
       "  'instruction mode': 'in-person',\n",
       "  'class number': 28581,\n",
       "  'units': 3,\n",
       "  'term': 'spring',\n",
       "  'description': 'Use of nuclear measurement techniques to detect clandestine movement and/or possession of nuclear materials by third parties. Nuclear detection, forensics, signatures, and active and passive interrogation methodologies will be explored. Techniques currently deployed for arms control and treaty verification will be discussed. Emphasis will be placed on common elements of detection technology from the viewpoint of resolution of threat signatures from false positives due to naturally occurring radioactive material. Topics include passive and active neutron signals, gamma ray detection, fission neutron multiplicity, and U and Pu isotopic identification and age determination.'},\n",
       " {'json_name': 'nuc_eng_230',\n",
       "  'id': '230',\n",
       "  'name': 'Analytical Methods for Non-proliferation',\n",
       "  'instructor': 'Edward Morse',\n",
       "  'offering days': 'tuesday, thursday',\n",
       "  'time': '5:00',\n",
       "  'duration': '1.5 hour(s)',\n",
       "  'instruction mode': 'in-person',\n",
       "  'class number': 28589,\n",
       "  'units': 3,\n",
       "  'term': 'spring',\n",
       "  'description': 'Use of nuclear measurement techniques to detect clandestine movement and/or possession of nuclear materials by third parties. Nuclear detection, forensics, signatures, and active and passive interrogation methodologies will be explored. Techniques currently deployed for arms control and treaty verification will be discussed. Emphasis will be placed on common elements of detection technology from the viewpoint of resolution of threat signatures from false positives due to naturally occurring radioactive material. Topics include passive and active neutron signals, gamma ray detection, fission neutron multiplicity, and U and Pu isotopic identification and age determination.'},\n",
       " {'json_name': 'nuc_eng_150',\n",
       "  'id': '150',\n",
       "  'name': 'Introduction to Nuclear Reactor Theory',\n",
       "  'instructor': 'Massimiliano Fratoni',\n",
       "  'offering days': 'tuesday, thursday',\n",
       "  'time': '11:00',\n",
       "  'duration': '1.5 hour(s)',\n",
       "  'instruction mode': 'in-person',\n",
       "  'class number': 28582,\n",
       "  'units': 4,\n",
       "  'term': 'spring',\n",
       "  'description': 'Neutron interactions, nuclear fission, and chain reacting systematics in thermal and fast nuclear reactors. Diffusion and slowing down of neutrons. Criticality calculations. Nuclear reactor dynamics and reactivity feedback. Production of radionuclides in nuclear reactors.'},\n",
       " {'json_name': 'nuc_eng_215m',\n",
       "  'id': '215M',\n",
       "  'name': 'Introduction to Nuclear Reactor Theory',\n",
       "  'instructor': 'Massimiliano Fratoni',\n",
       "  'offering days': 'tuesday, thursday',\n",
       "  'time': '11:00',\n",
       "  'duration': '1.5 hour(s)',\n",
       "  'instruction mode': 'in-person',\n",
       "  'class number': 33091,\n",
       "  'units': 4,\n",
       "  'term': 'spring',\n",
       "  'description': 'Neutron interactions, nuclear fission, and chain reacting systematics in thermal and fast nuclear reactors. Diffusion and slowing down of neutrons. Criticality calculations. Nuclear reactor dynamics and reactivity feedback. Production of radionuclides in nuclear reactors.'},\n",
       " {'json_name': 'nuc_eng_162',\n",
       "  'id': '162',\n",
       "  'name': 'Radiation Biophysics and Dosimetry',\n",
       "  'instructor': 'Rebecca J. Abergel',\n",
       "  'offering days': 'tuesday, thursday',\n",
       "  'time': '12:30',\n",
       "  'duration': '1.5 hour(s)',\n",
       "  'instruction mode': 'in-person',\n",
       "  'class number': 28586,\n",
       "  'units': 3,\n",
       "  'term': 'spring',\n",
       "  'description': 'Interaction of radiation with matter; physical, chemical, and biological effects of radiation on human tissues; dosimetry units and measurements; internal and external radiation fields and dosimetry; radiation exposure regulations; sources of radiation and radioactivity; basic shielding concepts; elements of radiation protection and control; theories and models for cell survival, radiation sensitivity, carcinogenesis, and dose calculation.'},\n",
       " {'json_name': 'nuc_eng_170a',\n",
       "  'id': '170a',\n",
       "  'name': 'Nuclear Design: Design in Nuclear Power Technology and Instrumentation',\n",
       "  'instructor': 'Massimiliano Fratoni',\n",
       "  'offering days': 'tuesday, thursday',\n",
       "  'time': '15:30',\n",
       "  'duration': '1.5 hour(s)',\n",
       "  'instruction mode': 'in-person',\n",
       "  'class number': 28587,\n",
       "  'units': 3,\n",
       "  'term': 'spring',\n",
       "  'description': 'Design of various fission and fusion power systems and other physically based applications. Each semester a topic will be chosen by the class as a whole. In addition to technology, the design should address issues relating to economics, the environment, and risk assessment.'},\n",
       " {'json_name': 'nuc_eng_201',\n",
       "  'id': '201',\n",
       "  'name': 'Nuclear Reactions and Interactions of Radiation with Matter',\n",
       "  'instructor': 'Younes Walid',\n",
       "  'offering days': 'monday, wednesday',\n",
       "  'time': '11:00',\n",
       "  'duration': '2 hour(s)',\n",
       "  'instruction mode': 'in-person',\n",
       "  'class number': 31438,\n",
       "  'units': 4,\n",
       "  'term': 'spring',\n",
       "  'description': 'Interaction of gamma rays, neutrons, and charged particles with matter; nuclear structure and radioactive decay; cross sections and energetics of nuclear reactions; nuclear fission and the fission products; fission and fusion reactions as energy sources.'},\n",
       " {'json_name': 'nuc_eng_262',\n",
       "  'id': '262',\n",
       "  'name': 'Radiobiology',\n",
       "  'instructor': 'Rebecca J. Abergel',\n",
       "  'offering days': 'tuesday, thursday',\n",
       "  'time': '12:30',\n",
       "  'duration': '1.5 hour(s)',\n",
       "  'instruction mode': 'in-person',\n",
       "  'class number': 29136,\n",
       "  'units': 3,\n",
       "  'term': 'spring',\n",
       "  'description': 'Radiobiology is concerned with the action of ionizing radiation on biological tissues and living organisms. It combines two disciplines: radiation physics and biology. Radiobiology combines our understanding of ionizing radiation and molecular biology, and is a required knowledge for health physicists, radiation biologists and medical physicists. This course will provide such knowledge for a diverse group of students with need in either disciplines. This course represents one of the requisites for the Joint UC Berkeley-UC San Francisco Medical Physics Certificate Program.'},\n",
       " {'json_name': 'nuc_eng_281',\n",
       "  'id': '281',\n",
       "  'name': 'Fully Ionized Plasmas',\n",
       "  'instructor': 'Edward Morse',\n",
       "  'offering days': 'tuesday, thursday',\n",
       "  'time': '14:00',\n",
       "  'duration': '1.5 hour(s)',\n",
       "  'instruction mode': 'in-person',\n",
       "  'class number': 31436,\n",
       "  'units': 3,\n",
       "  'term': 'spring',\n",
       "  'description': 'Introduction to warm and hot magnetized plasmas. Single particle motion in electric and magnetic fields. Collective particle oscillations, waves and instabilities. Magnetohydrodynamic equilibria, stability and transport. Magnetically confined plasmas for controlled fusion. Space plasmas.'},\n",
       " {'json_name': 'nuc_eng_c282',\n",
       "  'id': 'c282',\n",
       "  'name': 'Charged Particle Sources and Beam Technology',\n",
       "  'instructor': 'Thomas Schenkel, Carl Schroeder',\n",
       "  'offering days': 'monday, wednesday',\n",
       "  'time': '15:00',\n",
       "  'duration': '1.5 hour(s)',\n",
       "  'instruction mode': 'in-person',\n",
       "  'class number': 31437,\n",
       "  'units': 3,\n",
       "  'term': 'spring',\n",
       "  'description': 'Topics in this course will include the latest technology of various types of ion and electron sources, extraction and formation of charge particle beams, computer simulation of beam propagation, diagnostics of ion sources and beams, and the applications of beams in fusion, synchrotron light source, neutron generation, microelectronics, lithography, and medical therapy. This is a general accelerator technology and engineering course that will be of interest to graduate students in physics, electrical engineering, and nuclear engineering.'},\n",
       " {'json_name': 'nuc_eng_c285',\n",
       "  'id': 'c285',\n",
       "  'name': 'Nuclear Security: The Nexus Between Policy and Technology',\n",
       "  'instructor': 'Karl A. Van Bibber',\n",
       "  'offering days': 'monday, wednesday',\n",
       "  'time': '14:00',\n",
       "  'duration': '1.5 hour(s)',\n",
       "  'instruction mode': 'in-person',\n",
       "  'class number': 28590,\n",
       "  'units': 4,\n",
       "  'term': 'spring',\n",
       "  'description': 'The course will review the origins and evolution of nuclear energy, how it has been applied for both peaceful and military purposes, and the current and prospective challenges it presents. The purpose of the course is to educate students on the policy roots and technological foundations of nuclear energy and nuclear weapons so they are positioned to make original contributions to the field in their scholarly and professional careers.'},\n",
       " {'json_name': 'nuc_eng_295s',\n",
       "  'id': '295',\n",
       "  'name': 'Nuclear Engineering Colloquium',\n",
       "  'instructor': 'Peter Hosemann',\n",
       "  'offering days': 'monday',\n",
       "  'time': '16:00',\n",
       "  'duration': '1 hour(s)',\n",
       "  'instruction mode': 'in-person',\n",
       "  'class number': 27956,\n",
       "  'units': 0,\n",
       "  'term': 'spring',\n",
       "  'description': 'Presentations on current topics of interest in nuclear technology by experts from government, industry and universities. Open to the campus community.'}]"
      ]
     },
     "execution_count": 3,
     "metadata": {},
     "output_type": "execute_result"
    }
   ],
   "source": [
    "data_with_columns.to_dict(orient='records')"
   ]
  },
  {
   "cell_type": "code",
   "execution_count": 4,
   "metadata": {
    "ExecuteTime": {
     "end_time": "2020-07-02T06:19:05.248749Z",
     "start_time": "2020-07-02T06:19:05.243747Z"
    }
   },
   "outputs": [],
   "source": [
    "x = 0\n",
    "for row in data_with_columns.to_dict(orient='records'):\n",
    "    if x == 0:\n",
    "        y = row\n",
    "    else:\n",
    "        continue\n",
    "    x = x + 1"
   ]
  },
  {
   "cell_type": "code",
   "execution_count": 7,
   "metadata": {
    "ExecuteTime": {
     "end_time": "2020-07-02T06:19:26.439458Z",
     "start_time": "2020-07-02T06:19:26.433957Z"
    }
   },
   "outputs": [
    {
     "data": {
      "text/plain": [
       "'nuc_eng_100'"
      ]
     },
     "execution_count": 7,
     "metadata": {},
     "output_type": "execute_result"
    }
   ],
   "source": [
    "y.pop(\"json_name\")"
   ]
  },
  {
   "cell_type": "code",
   "execution_count": 8,
   "metadata": {
    "ExecuteTime": {
     "end_time": "2020-07-02T06:19:28.230771Z",
     "start_time": "2020-07-02T06:19:28.226271Z"
    }
   },
   "outputs": [
    {
     "data": {
      "text/plain": [
       "{'id': '100',\n",
       " 'name': 'Introduction to Nuclear Energy and Technology',\n",
       " 'instructor': 'Rachel Slaybaugh',\n",
       " 'offering days': 'tuesday, thursday',\n",
       " 'time': '9:30',\n",
       " 'duration': '1.5 hour(s)',\n",
       " 'instruction mode': 'online',\n",
       " 'class number': 28766,\n",
       " 'units': 3,\n",
       " 'term': 'fall',\n",
       " 'description': 'The class provides students with an overview of the contemporary nuclear energy technology with emphasis on nuclear fission as an energy source. Starting with the basic physics of the nuclear fission process, the class includes discussions on reactor control, thermal hydraulics, fuel production, and spent fuel management for various types of reactors in use around the world as well as analysis of safety and other nuclear-related issues. This class is intended for sophomore NE students, but is also open to transfer students and students from other majors.'}"
      ]
     },
     "execution_count": 8,
     "metadata": {},
     "output_type": "execute_result"
    }
   ],
   "source": [
    "y"
   ]
  },
  {
   "cell_type": "code",
   "execution_count": 10,
   "metadata": {
    "ExecuteTime": {
     "end_time": "2020-07-02T06:25:48.481826Z",
     "start_time": "2020-07-02T06:25:48.452320Z"
    }
   },
   "outputs": [],
   "source": [
    "for row in data_with_columns.to_dict(orient='records'):\n",
    "    jsonfile = open(\"./courses_json/\" + row['json_name'] + \".json\", 'w')\n",
    "    row.pop(\"json_name\")\n",
    "    row[\"course_id\"] = row.pop(\"id\")\n",
    "    row[\"offering_days\"] = row.pop(\"offering days\")\n",
    "    row[\"course_number\"] = row.pop(\"class number\")\n",
    "    row[\"instruction_mode\"] = row.pop(\"instruction mode\")\n",
    "    json.dump(row, jsonfile)"
   ]
  },
  {
   "cell_type": "code",
   "execution_count": 21,
   "metadata": {
    "ExecuteTime": {
     "end_time": "2020-07-02T06:40:02.301268Z",
     "start_time": "2020-07-02T06:40:02.297271Z"
    }
   },
   "outputs": [],
   "source": [
    "fixing_295 = data_with_columns.to_dict(orient='records')[-1]"
   ]
  },
  {
   "cell_type": "code",
   "execution_count": 22,
   "metadata": {
    "ExecuteTime": {
     "end_time": "2020-07-02T06:40:03.976062Z",
     "start_time": "2020-07-02T06:40:03.970060Z"
    }
   },
   "outputs": [],
   "source": [
    "with open('./courses_json/nuc_eng_295s.json', \"w\") as f:\n",
    "    fixing_295.pop(\"json_name\")\n",
    "    fixing_295[\"course_id\"] = fixing_295.pop(\"id\")\n",
    "    fixing_295[\"offering_days\"] = fixing_295.pop(\"offering days\")\n",
    "    fixing_295[\"course_number\"] = fixing_295.pop(\"class number\")\n",
    "    fixing_295[\"instruction_mode\"] = fixing_295.pop(\"instruction mode\")\n",
    "    json.dump(fixing_295, f)"
   ]
  },
  {
   "cell_type": "markdown",
   "metadata": {},
   "source": [
    "# Loading and Reading a JSON"
   ]
  },
  {
   "cell_type": "code",
   "execution_count": 26,
   "metadata": {
    "ExecuteTime": {
     "end_time": "2020-07-02T07:47:23.303759Z",
     "start_time": "2020-07-02T07:47:23.297758Z"
    }
   },
   "outputs": [],
   "source": [
    "import json\n",
    "\n",
    "with open('course0.json') as f:\n",
    "    data = json.load(f)"
   ]
  },
  {
   "cell_type": "code",
   "execution_count": 27,
   "metadata": {
    "ExecuteTime": {
     "end_time": "2020-07-02T07:47:24.229421Z",
     "start_time": "2020-07-02T07:47:24.225420Z"
    }
   },
   "outputs": [
    {
     "data": {
      "text/plain": [
       "{'courseType': 'v2.ondemand',\n",
       " 'description': \"Gamification is the application of game elements and digital game design techniques to non-game problems, such as business and social impact challenges. This course will teach you the mechanisms of gamification, why it has such tremendous potential, and how to use it effectively. For additional information on the concepts described in the course, you can purchase Professor Werbach's book For the Win: How Game Thinking Can Revolutionize Your Business in print or ebook format in several languages.\",\n",
       " 'id': '69Bku0KoEeWZtA4u62x6lQ',\n",
       " 'slug': 'gamification',\n",
       " 'instructorIds': ['226710'],\n",
       " 'specializations': [],\n",
       " 'partnerIds': ['6'],\n",
       " 'name': 'Gamification'}"
      ]
     },
     "execution_count": 27,
     "metadata": {},
     "output_type": "execute_result"
    }
   ],
   "source": [
    "data"
   ]
  },
  {
   "cell_type": "code",
   "execution_count": null,
   "metadata": {},
   "outputs": [],
   "source": []
  }
 ],
 "metadata": {
  "kernelspec": {
   "display_name": "Python 3",
   "language": "python",
   "name": "python3"
  },
  "language_info": {
   "codemirror_mode": {
    "name": "ipython",
    "version": 3
   },
   "file_extension": ".py",
   "mimetype": "text/x-python",
   "name": "python",
   "nbconvert_exporter": "python",
   "pygments_lexer": "ipython3",
   "version": "3.7.9"
  }
 },
 "nbformat": 4,
 "nbformat_minor": 4
}
